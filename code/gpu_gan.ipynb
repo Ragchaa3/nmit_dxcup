{
 "cells": [
  {
   "cell_type": "code",
   "execution_count": null,
   "metadata": {},
   "outputs": [],
   "source": [
    "import pandas as pd\n",
    "import numpy as np\n",
    "from sklearn.preprocessing import MinMaxScaler\n",
    "from keras.models import Sequential\n",
    "from keras.layers import Dense\n",
    "from keras.optimizers import Adam\n",
    "from keras import Input\n",
    "from tensorflow.keras import backend as K"
   ]
  },
  {
   "cell_type": "code",
   "execution_count": 2,
   "metadata": {},
   "outputs": [
    {
     "name": "stdout",
     "output_type": "stream",
     "text": [
      "Num GPUs Available:  0\n"
     ]
    }
   ],
   "source": [
    "import tensorflow as tf\n",
    "\n",
    "print(\"Num GPUs Available: \", len(tf.config.list_physical_devices('GPU')))"
   ]
  },
  {
   "cell_type": "code",
   "execution_count": null,
   "metadata": {},
   "outputs": [],
   "source": [
    "import tensorflow as tf\n",
    "from tensorflow.keras import layers\n",
    "\n",
    "# Generator\n",
    "def build_generator(input_dim, output_dim):\n",
    "    model = tf.keras.Sequential([\n",
    "        layers.Dense(256, activation='relu', input_dim=input_dim),\n",
    "        layers.Dense(512, activation='relu'),\n",
    "        layers.Dense(output_dim, activation='tanh')  # Normalized range\n",
    "    ])\n",
    "    return model\n",
    "\n",
    "# Discriminator\n",
    "def build_discriminator(input_dim):\n",
    "    model = tf.keras.Sequential([\n",
    "        layers.Dense(512, activation='relu', input_dim=input_dim),\n",
    "        layers.Dense(256, activation='relu'),\n",
    "        layers.Dense(1, activation='sigmoid')  # Real or fake\n",
    "    ])\n",
    "    return model\n",
    "\n",
    "# GAN\n",
    "def build_gan(generator, discriminator):\n",
    "    discriminator.trainable = False\n",
    "    gan_input = layers.Input(shape=(generator.input_shape[1],))\n",
    "    x = generator(gan_input)\n",
    "    gan_output = discriminator(x)\n",
    "    return tf.keras.Model(gan_input, gan_output)\n",
    "\n",
    "# Training function\n",
    "def train_gan(generator, discriminator, gan, real_data, epochs=10000, batch_size=32):\n",
    "    for epoch in range(epochs):\n",
    "        # Sample real data\n",
    "        idx = np.random.randint(0, real_data.shape[0], batch_size)\n",
    "        real_samples = real_data[idx]\n",
    "\n",
    "        # Generate fake data\n",
    "        noise = np.random.normal(0, 1, (batch_size, generator.input_shape[1]))\n",
    "        fake_samples = generator.predict(noise)\n",
    "\n",
    "        # Train discriminator\n",
    "        d_loss_real = discriminator.train_on_batch(real_samples, np.ones((batch_size, 1)))\n",
    "        d_loss_fake = discriminator.train_on_batch(fake_samples, np.zeros((batch_size, 1)))\n",
    "        d_loss = 0.5 * (d_loss_real + d_loss_fake)\n",
    "\n",
    "        # Train generator\n",
    "        noise = np.random.normal(0, 1, (batch_size, generator.input_shape[1]))\n",
    "        g_loss = gan.train_on_batch(noise, np.ones((batch_size, 1)))\n",
    "\n",
    "        # Print losses periodically\n",
    "        if epoch % 100 == 0:\n",
    "            print(f\"Epoch {epoch}, D Loss: {d_loss}, G Loss: {g_loss}\")\n",
    "\n",
    "# Example Usage\n",
    "input_dim = 100  # Random noise dimension\n",
    "output_dim = real_data.shape[1]  # Feature size\n",
    "\n",
    "generator = build_generator(input_dim, output_dim)\n",
    "discriminator = build_discriminator(output_dim)\n",
    "gan = build_gan(generator, discriminator)\n",
    "\n",
    "discriminator.compile(optimizer='adam', loss='binary_crossentropy', metrics=['accuracy'])\n",
    "gan.compile(optimizer='adam', loss='binary_crossentropy')\n",
    "\n",
    "# Train GAN\n",
    "train_gan(generator, discriminator, gan, real_data, epochs=10000, batch_size=32)\n",
    "\n",
    "# Generate new samples\n",
    "noise = np.random.normal(0, 1, (10, input_dim))\n",
    "new_samples = generator.predict(noise)\n"
   ]
  }
 ],
 "metadata": {
  "kernelspec": {
   "display_name": "and",
   "language": "python",
   "name": "and"
  },
  "language_info": {
   "codemirror_mode": {
    "name": "ipython",
    "version": 3
   },
   "file_extension": ".py",
   "mimetype": "text/x-python",
   "name": "python",
   "nbconvert_exporter": "python",
   "pygments_lexer": "ipython3",
   "version": "3.11.9"
  }
 },
 "nbformat": 4,
 "nbformat_minor": 2
}
