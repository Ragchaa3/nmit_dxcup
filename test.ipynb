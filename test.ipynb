{
 "cells": [
  {
   "cell_type": "code",
   "execution_count": 4,
   "metadata": {},
   "outputs": [],
   "source": [
    "import os\n",
    "import shutil"
   ]
  },
  {
   "cell_type": "code",
   "execution_count": 9,
   "metadata": {},
   "outputs": [
    {
     "name": "stdout",
     "output_type": "stream",
     "text": [
      "Copied: New Recording 11 [breath only].wav\n",
      "Copied: New Recording 12 [breath only].wav\n",
      "Copied: New Recording 13 [breath only].wav\n",
      "Copied: New Recording 14 [breath only].wav\n",
      "Copied: New Recording 16 [breath only].wav\n",
      "Copied: New Recording 17 [breath only].wav\n",
      "Copied: New Recording 18 [breath only].wav\n",
      "Copied: New Recording 20 [breath only].wav\n",
      "Copied: New Recording 21 [breath only].wav\n",
      "Copied: New Recording 6 [breath only].wav\n",
      "Copied: New Recording 7 [breath only].wav\n",
      "Copied: New Recording 8 [breath only].wav\n",
      "Copied: New Recording 9 [breath only].wav\n",
      "Copied: Ondorhaan 11 [breath only].wav\n",
      "Copied: Ondorhaan 3 [breath only].wav\n",
      "Copied: Ondorhaan 5 [breath only].wav\n",
      "Copied: Ondorhaan 7 [breath only].wav\n",
      "Copied: Ondorhaan 9 [breath only].wav\n",
      "Copied: Ondorhaan [breath only].wav\n",
      "Done!\n"
     ]
    }
   ],
   "source": [
    "folder_path = \"data/data\"\n",
    "destination_folder = \"data/breath/1\"\n",
    "\n",
    "# Ensure the destination folder exists\n",
    "os.makedirs(destination_folder, exist_ok=True)\n",
    "\n",
    "# Iterate through files in the source folder\n",
    "for file_name in os.listdir(folder_path):\n",
    "    # Check if the file contains \"breath only\"\n",
    "    if \"breath only\" in file_name and os.path.isfile(os.path.join(folder_path, file_name)):\n",
    "        # Copy the file to the destination folder\n",
    "        # print(os.path.join(folder_path, file_name), destination_folder)\n",
    "        shutil.copy(os.path.join(folder_path, file_name), destination_folder)\n",
    "        print(f\"Copied: {file_name}\")\n",
    "\n",
    "print(\"Done!\")"
   ]
  },
  {
   "cell_type": "code",
   "execution_count": 3,
   "metadata": {},
   "outputs": [
    {
     "data": {
      "text/plain": [
       "36"
      ]
     },
     "execution_count": 3,
     "metadata": {},
     "output_type": "execute_result"
    }
   ],
   "source": [
    "len( os.listdir(folder_path))"
   ]
  }
 ],
 "metadata": {
  "kernelspec": {
   "display_name": "dxcup",
   "language": "python",
   "name": "python3"
  },
  "language_info": {
   "codemirror_mode": {
    "name": "ipython",
    "version": 3
   },
   "file_extension": ".py",
   "mimetype": "text/x-python",
   "name": "python",
   "nbconvert_exporter": "python",
   "pygments_lexer": "ipython3",
   "version": "3.12.2"
  }
 },
 "nbformat": 4,
 "nbformat_minor": 2
}
